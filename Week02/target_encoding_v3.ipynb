{
 "cells": [
  {
   "cell_type": "code",
   "execution_count": 1,
   "metadata": {},
   "outputs": [],
   "source": [
    "%load_ext cython"
   ]
  },
  {
   "cell_type": "code",
   "execution_count": 2,
   "metadata": {},
   "outputs": [],
   "source": [
    "import numpy as np\n",
    "import pandas as pd\n",
    "from collections import defaultdict"
   ]
  },
  {
   "cell_type": "code",
   "execution_count": 3,
   "metadata": {},
   "outputs": [],
   "source": [
    "n = 1000000\n",
    "y = np.random.randint(2, size=(n, 1))\n",
    "x = np.random.randint(10, size=(n, 1))\n",
    "data = pd.DataFrame(np.concatenate([y, x], axis=1), columns=['y', 'x'])"
   ]
  },
  {
   "cell_type": "code",
   "execution_count": 4,
   "metadata": {},
   "outputs": [],
   "source": [
    "def target_mean_v1(data, y_name, x_name):\n",
    "    result = np.zeros(data.shape[0])\n",
    "    for i in range(data.shape[0]):\n",
    "        groupby_result = data[data.index != i].groupby([x_name], as_index=False).agg(['mean', 'count'])\n",
    "        result[i] = groupby_result.loc[groupby_result.index == data.loc[i, x_name], (y_name, 'mean')]\n",
    "    return result"
   ]
  },
  {
   "cell_type": "code",
   "execution_count": 5,
   "metadata": {},
   "outputs": [],
   "source": [
    "def target_mean_v2(data, y_name, x_name):\n",
    "    result = np.zeros(data.shape[0])\n",
    "    value_dict = dict()\n",
    "    count_dict = dict()\n",
    "    for i in range(data.shape[0]):\n",
    "        if data.loc[i, x_name] not in value_dict.keys():\n",
    "            value_dict[data.loc[i, x_name]] = data.loc[i, y_name]\n",
    "            count_dict[data.loc[i, x_name]] = 1\n",
    "        else:\n",
    "            value_dict[data.loc[i, x_name]] += data.loc[i, y_name]\n",
    "            count_dict[data.loc[i, x_name]] += 1\n",
    "    for i in range(data.shape[0]):\n",
    "        result[i] = (value_dict[data.loc[i, x_name]] - data.loc[i, y_name]) / (count_dict[data.loc[i, x_name]] - 1)\n",
    "    return result"
   ]
  },
  {
   "cell_type": "code",
   "execution_count": 6,
   "metadata": {},
   "outputs": [],
   "source": [
    "def target_mean_v3(data, y_name, x_name):\n",
    "    n = data.shape[0]\n",
    "    X = data[x_name].values\n",
    "    Y = data[y_name].values\n",
    "    value_dict = defaultdict(lambda:0)\n",
    "    count_dict = defaultdict(lambda:0)\n",
    "    for x, y in zip(X, Y):\n",
    "        value_dict[x] += y\n",
    "        count_dict[x] += 1\n",
    "    result = [(value_dict[x] - y) / (count_dict[x] - 1) for x, y in zip(X, Y)]\n",
    "    return result"
   ]
  },
  {
   "cell_type": "code",
   "execution_count": 7,
   "metadata": {},
   "outputs": [],
   "source": [
    "def test_eq(a, b): assert np.allclose(a, b)"
   ]
  },
  {
   "cell_type": "code",
   "execution_count": 8,
   "metadata": {},
   "outputs": [
    {
     "name": "stdout",
     "output_type": "stream",
     "text": [
      "6.97 ms ± 165 µs per loop (mean ± std. dev. of 7 runs, 100 loops each)\n"
     ]
    }
   ],
   "source": [
    "test_eq(target_mean_v1(data[:5000], 'y', 'x'), target_mean_v3(data[:5000], 'y', 'x'))\n",
    "%timeit res_v3 = target_mean_v3(data[:5000], 'y', 'x')"
   ]
  },
  {
   "cell_type": "markdown",
   "metadata": {},
   "source": [
    "# Cython INT8"
   ]
  },
  {
   "cell_type": "code",
   "execution_count": 9,
   "metadata": {},
   "outputs": [],
   "source": [
    "%%cython\n",
    "\n",
    "import numpy as np\n",
    "cimport numpy as c_np\n",
    "cimport cython\n",
    "\n",
    "@cython.boundscheck(False)\n",
    "@cython.wraparound(False)\n",
    "@cython.cdivision(True)\n",
    "@cython.initializedcheck(False)\n",
    "@cython.overflowcheck(False)\n",
    "@cython.binding(False)\n",
    "def target_mean_v3_cy(data, str y_name, str x_name):\n",
    "    cdef:\n",
    "        int n = data.shape[0]\n",
    "        c_np.ndarray[double] output = np.empty(n)\n",
    "        int i\n",
    "        int cnt[10]\n",
    "        double val[10]\n",
    "        unsigned char x\n",
    "        unsigned char[:] X = data[x_name].values\n",
    "        unsigned char[:] Y = data[y_name].values\n",
    "        double[:] result = output\n",
    "\n",
    "    for i from 0 <= i < 10:\n",
    "        cnt[i] = 0\n",
    "        val[i] = 0.\n",
    "\n",
    "    for i from 0 <= i < n:\n",
    "        x = X[i]\n",
    "        val[x] += Y[i]\n",
    "        cnt[x] += 1\n",
    "\n",
    "    for i from 0 <= i < n:\n",
    "        x = X[i]\n",
    "        result[i] = (val[x] - Y[i]) / (cnt[x] - 1)\n",
    "\n",
    "    return output"
   ]
  },
  {
   "cell_type": "code",
   "execution_count": 10,
   "metadata": {},
   "outputs": [],
   "source": [
    "data2 = data.copy()\n",
    "data2['x'] = data['x'].astype('uint8')\n",
    "data2['y'] = data['y'].astype('uint8')"
   ]
  },
  {
   "cell_type": "code",
   "execution_count": 14,
   "metadata": {},
   "outputs": [
    {
     "name": "stdout",
     "output_type": "stream",
     "text": [
      "2.45 ms ± 79.9 µs per loop (mean ± std. dev. of 7 runs, 1000 loops each)\n"
     ]
    }
   ],
   "source": [
    "test_eq(target_mean_v3(data, 'y', 'x'), target_mean_v3_cy(data2, 'y', 'x'))\n",
    "%timeit -n 1000 target_mean_v3_cy(data2, 'y', 'x')"
   ]
  },
  {
   "cell_type": "markdown",
   "metadata": {},
   "source": [
    "# Parallel by openmp"
   ]
  },
  {
   "cell_type": "code",
   "execution_count": 13,
   "metadata": {},
   "outputs": [],
   "source": [
    "%%cython\n",
    "\n",
    "# distutils: language=c++\n",
    "\n",
    "import numpy as np\n",
    "cimport numpy as c_np\n",
    "import cython\n",
    "cimport cython\n",
    "from cython.parallel import prange\n",
    "\n",
    "@cython.boundscheck(False)\n",
    "@cython.wraparound(False)\n",
    "cdef void create_dict(double* val, int* cnt, unsigned char[:] X, unsigned char[:] Y, int i) nogil:\n",
    "    cdef unsigned char x = X[i]\n",
    "    val[x] += Y[i]\n",
    "    cnt[x] += 1\n",
    "    \n",
    "@cython.boundscheck(False)\n",
    "@cython.wraparound(False)\n",
    "@cython.cdivision(True)\n",
    "cdef void mean_encoding(double[:] result, double* val, int* cnt, unsigned char[:] X, unsigned char[:] Y, int i) nogil:\n",
    "    cdef unsigned char x = X[i]\n",
    "    result[i] = (val[x] - Y[i]) / (cnt[x] - 1)\n",
    "\n",
    "@cython.boundscheck(False)\n",
    "@cython.wraparound(False)\n",
    "def target_mean_v3_parallel(data, str y_name, str x_name):\n",
    "    cdef:\n",
    "        int n = data.shape[0]\n",
    "        int i\n",
    "        int cnt[10]\n",
    "        double val[10]\n",
    "        unsigned char x\n",
    "        unsigned char[:] X = data[x_name].values\n",
    "        unsigned char[:] Y = data[y_name].values\n",
    "        c_np.ndarray[double] output = np.empty(n)\n",
    "        double[:] result = output\n",
    "\n",
    "    for i from 0 <= i < 10:\n",
    "        cnt[i] = 0\n",
    "        val[i] = 0.\n",
    "\n",
    "    for i in prange(n, nogil=True):\n",
    "        create_dict(val, cnt, X, Y, i)\n",
    "  \n",
    "    for i in prange(n, nogil=True):\n",
    "        mean_encoding(result, val, cnt, X, Y, i)\n",
    "\n",
    "    return output"
   ]
  },
  {
   "cell_type": "code",
   "execution_count": 15,
   "metadata": {},
   "outputs": [
    {
     "name": "stdout",
     "output_type": "stream",
     "text": [
      "2.88 ms ± 81.3 µs per loop (mean ± std. dev. of 7 runs, 1000 loops each)\n"
     ]
    }
   ],
   "source": [
    "test_eq(target_mean_v3(data, 'y', 'x'), target_mean_v3_parallel(data2, 'y', 'x'))\n",
    "%timeit -n 1000 res_v4 = target_mean_v3_parallel(data2, 'y', 'x')"
   ]
  },
  {
   "cell_type": "code",
   "execution_count": 16,
   "metadata": {},
   "outputs": [
    {
     "name": "stdout",
     "output_type": "stream",
     "text": [
      "12\r\n"
     ]
    }
   ],
   "source": [
    "!cat /proc/cpuinfo | grep processor | wc -l"
   ]
  },
  {
   "cell_type": "code",
   "execution_count": null,
   "metadata": {},
   "outputs": [],
   "source": []
  }
 ],
 "metadata": {
  "kernelspec": {
   "display_name": "Python 3",
   "language": "python",
   "name": "python3"
  },
  "language_info": {
   "codemirror_mode": {
    "name": "ipython",
    "version": 3
   },
   "file_extension": ".py",
   "mimetype": "text/x-python",
   "name": "python",
   "nbconvert_exporter": "python",
   "pygments_lexer": "ipython3",
   "version": "3.8.3"
  }
 },
 "nbformat": 4,
 "nbformat_minor": 4
}
